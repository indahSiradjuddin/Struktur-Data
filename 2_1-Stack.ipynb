{
 "cells": [
  {
   "cell_type": "markdown",
   "metadata": {},
   "source": [
    "# Struktur Data\n",
    "\n",
    "*Indah Agustien Siradjuddin*\n",
    "\n",
    "Strutktur Data Dasar"
   ]
  },
  {
   "cell_type": "markdown",
   "metadata": {
    "collapsed": true
   },
   "source": [
    "## Struktur Data \n",
    "\n",
    "Struktur data merupakan cara programmer untuk merepresentasikan suatu data, dan memudahkan programmer untuk menyelesaikan permasalahan dengan menggunakan struktur data tersebut.\n",
    "\n",
    "Struktur data **Linear Structure** merupakan struktur data sederhana dimana ketika data ditambahkan maka data tersebut berada pada posisi relatif terhadap data yang lain dari struktur data tersebut.\n",
    "Linear structure ini memiliki dua buah ujung.  Dua buah ujung ini memiliki beberapa istilah seperti **left-right**, **front-rear**, ataupun **top-bottom**.\n",
    "Terdapat beberapa struktur data yang termasuk pada linear structure ini, yaitu :\n",
    "    - Stacks\n",
    "    - Queues\n",
    "    - Lists\n",
    "\n",
    "Ketiga jenis struktur data tersebut berbeda dalam penambahan atau penghapusan suatu data.  Misalkan, suatu struktur data hanya diperbolehkan menghapus data pada salah satu ujung, sedangkan pada struktur data lain, penghapusan data dapat dilakukan pada kedua ujung. "
   ]
  },
  {
   "cell_type": "markdown",
   "metadata": {},
   "source": [
    "# Stacks\n",
    "\n",
    "## Definisi Stacks\n",
    "\n",
    "**Stacks** adalah satu struktur data dimana penambahan dan penghapusan data, hanya dapat dilakukan pada satu ujung yang **sama**, atau yang biasa dikenal dengan istilah **top**.\n",
    "\n",
    "Semakin data jauh berada dari posisi top, maka data tersebut diindikasikan berada di stack lebih lama dibandingkan dengan data yang berada dekat pada data di posisi top.\n",
    "\n",
    "Jika terdapat data baru yang ditambahkan di stack, maka data ini pulalah yang akan dihapus ketika terdapat proses penghapusan data.  Konsep ini dikenal dengan nama **LIFO-Last In First Out**.\n",
    "\n",
    "Konsep stack ini dapat ditemui pada permasalahan sehari-hari, misalkan tumpukan buku pada Gambar berikut. \n",
    "\n",
    "![title](images/bookStack.png)\n",
    "\n",
    "Jika kita ingin mengambil buku pada tumpukan buku tersebut, maka buku yang dapat kita ambil adalah buku yang berada di posisi teratas.  Jika ingin mengambil buku yang berada di posisi paling bawah, maka kita harus mengambil buku-buku yang berada di posisi atasnya terlebih dahulu.\n",
    "Begitu juga ketika terdapat penambahan buku baru, maka buku baru ini akan berada di posisi paling atas."
   ]
  },
  {
   "cell_type": "markdown",
   "metadata": {},
   "source": [
    "## Operasi pada Stacks\n",
    "\n",
    "\n",
    "Terdapat operasi dasar pada Stacks, \n",
    "    - stack (),   inisialisasi stack yang kosong\n",
    "    - push(data), penambahan data baru pada posisi top dari stack\n",
    "    - pop(),      penghapusan data yang terdapat di posisi top dari stack. Return value dari fungsi ini adalah data yang  \n",
    "                  dihapus dari stack tersebut\n",
    "    - peek(),     informasi data yang terletak pada posisi top\n",
    "    - isEmpty(), untuk memeriksa apakah stack dalam keadaan kosong\n",
    "    - size(),     informasi jumlah data yang terdapat pada stack"
   ]
  },
  {
   "cell_type": "markdown",
   "metadata": {},
   "source": [
    "Ilustrasi proses penambahan data atau yang dikenal dengan istilah **push** dapat dilihat pada Gambar berikut.\n",
    "![title](images/pushStack.png)\n"
   ]
  },
  {
   "cell_type": "markdown",
   "metadata": {},
   "source": [
    "Sedangkan proses penghapusan data atau yang dikenal dengan istilah **pop** dapat dilihat pada Gambar berikut.\n",
    "![title](images/popStack.png)\n"
   ]
  },
  {
   "cell_type": "markdown",
   "metadata": {},
   "source": [
    "## Implementasi Stack dengan Python\n"
   ]
  },
  {
   "cell_type": "code",
   "execution_count": 1,
   "metadata": {
    "collapsed": false
   },
   "outputs": [],
   "source": [
    "def stack():\n",
    "    s=[]\n",
    "    return (s)"
   ]
  },
  {
   "cell_type": "code",
   "execution_count": 2,
   "metadata": {
    "collapsed": true
   },
   "outputs": [],
   "source": [
    "def push(s,data):\n",
    "    s.append(data)"
   ]
  },
  {
   "cell_type": "code",
   "execution_count": 3,
   "metadata": {
    "collapsed": true
   },
   "outputs": [],
   "source": [
    "def pop(s):\n",
    "    data=s.pop()\n",
    "    return(data)"
   ]
  },
  {
   "cell_type": "code",
   "execution_count": 4,
   "metadata": {
    "collapsed": true
   },
   "outputs": [],
   "source": [
    "def peek(s):\n",
    "    return(s[len(s)-1])"
   ]
  },
  {
   "cell_type": "code",
   "execution_count": 5,
   "metadata": {
    "collapsed": true
   },
   "outputs": [],
   "source": [
    "def isEmpty(s):\n",
    "    return (s==[])"
   ]
  },
  {
   "cell_type": "code",
   "execution_count": 6,
   "metadata": {
    "collapsed": true
   },
   "outputs": [],
   "source": [
    "def size(s):\n",
    "    return(len(s))"
   ]
  },
  {
   "cell_type": "code",
   "execution_count": null,
   "metadata": {
    "collapsed": false,
    "scrolled": true
   },
   "outputs": [],
   "source": [
    "st=stack()\n",
    "isEmpty(st)"
   ]
  },
  {
   "cell_type": "code",
   "execution_count": 9,
   "metadata": {
    "collapsed": false
   },
   "outputs": [],
   "source": [
    "s=stack()"
   ]
  },
  {
   "cell_type": "code",
   "execution_count": 10,
   "metadata": {
    "collapsed": false
   },
   "outputs": [
    {
     "name": "stdout",
     "output_type": "stream",
     "text": [
      "[100, 23]\n"
     ]
    }
   ],
   "source": [
    "push(s,100)\n",
    "push(s,23)\n",
    "push(s,34)\n",
    "pop(s)\n",
    "push(s,56)\n",
    "pop(s)\n",
    "print(s)"
   ]
  },
  {
   "cell_type": "code",
   "execution_count": null,
   "metadata": {
    "collapsed": true
   },
   "outputs": [],
   "source": []
  },
  {
   "cell_type": "code",
   "execution_count": null,
   "metadata": {
    "collapsed": false
   },
   "outputs": [],
   "source": [
    "push(s,'matematika')\n",
    "push(s,'struktur data')\n",
    "push(s, 'bahasa inggris')\n",
    "push(s, 'pemrograman web')"
   ]
  },
  {
   "cell_type": "code",
   "execution_count": null,
   "metadata": {
    "collapsed": false,
    "scrolled": true
   },
   "outputs": [],
   "source": [
    "print(s)"
   ]
  },
  {
   "cell_type": "code",
   "execution_count": null,
   "metadata": {
    "collapsed": false
   },
   "outputs": [],
   "source": [
    "push(s,pop(s))\n",
    "print(s)"
   ]
  },
  {
   "cell_type": "code",
   "execution_count": null,
   "metadata": {
    "collapsed": true
   },
   "outputs": [],
   "source": [
    "push(st,'madura')\n",
    "push(st,'surabaya')\n",
    "push(st,6)"
   ]
  },
  {
   "cell_type": "code",
   "execution_count": null,
   "metadata": {
    "collapsed": false
   },
   "outputs": [],
   "source": [
    "st"
   ]
  },
  {
   "cell_type": "code",
   "execution_count": null,
   "metadata": {
    "collapsed": false
   },
   "outputs": [],
   "source": [
    "isEmpty(st)\n",
    "print(st)\n",
    "size(st)"
   ]
  },
  {
   "cell_type": "code",
   "execution_count": null,
   "metadata": {
    "collapsed": false
   },
   "outputs": [],
   "source": [
    "st"
   ]
  },
  {
   "cell_type": "code",
   "execution_count": null,
   "metadata": {
    "collapsed": false
   },
   "outputs": [],
   "source": [
    "pop(st)"
   ]
  },
  {
   "cell_type": "code",
   "execution_count": null,
   "metadata": {
    "collapsed": false
   },
   "outputs": [],
   "source": [
    "st"
   ]
  },
  {
   "cell_type": "code",
   "execution_count": null,
   "metadata": {
    "collapsed": false
   },
   "outputs": [],
   "source": [
    "peek(st)"
   ]
  },
  {
   "cell_type": "code",
   "execution_count": null,
   "metadata": {
    "collapsed": false
   },
   "outputs": [],
   "source": [
    "st"
   ]
  },
  {
   "cell_type": "code",
   "execution_count": null,
   "metadata": {
    "collapsed": false
   },
   "outputs": [],
   "source": [
    "pop(st)"
   ]
  },
  {
   "cell_type": "code",
   "execution_count": null,
   "metadata": {
    "collapsed": false
   },
   "outputs": [],
   "source": [
    "st"
   ]
  },
  {
   "cell_type": "code",
   "execution_count": null,
   "metadata": {
    "collapsed": false
   },
   "outputs": [],
   "source": [
    "a='kita'\n",
    "word=stack()\n",
    "str=''\n",
    "for i in a:\n",
    "    push(word,i)\n",
    "for i in range(size(word)):\n",
    "    temp=pop(word)\n",
    "    str=str+temp\n",
    "\n",
    "print(str)"
   ]
  },
  {
   "cell_type": "markdown",
   "metadata": {},
   "source": [
    "### Latihan - 1\n",
    "\n",
    "Buat function untuk 'reverse word' dengan menggunakan konsep **stack**, misalkan kata 'madura' menjadi 'arudam'"
   ]
  },
  {
   "cell_type": "code",
   "execution_count": 1,
   "metadata": {
    "collapsed": true
   },
   "outputs": [],
   "source": [
    "import sys\n",
    "sys.path.append('./code')"
   ]
  },
  {
   "cell_type": "code",
   "execution_count": 2,
   "metadata": {
    "collapsed": false
   },
   "outputs": [],
   "source": [
    "import stackImplementation as stack"
   ]
  },
  {
   "cell_type": "code",
   "execution_count": 3,
   "metadata": {
    "collapsed": false
   },
   "outputs": [
    {
     "data": {
      "text/plain": [
       "'gnalam kera'"
      ]
     },
     "execution_count": 3,
     "metadata": {},
     "output_type": "execute_result"
    }
   ],
   "source": [
    "stack.reverseWord('arek malang')\n"
   ]
  },
  {
   "cell_type": "code",
   "execution_count": null,
   "metadata": {
    "collapsed": false
   },
   "outputs": [],
   "source": [
    "a='kita'\n",
    "for i in a:\n",
    "    print(i)"
   ]
  },
  {
   "cell_type": "code",
   "execution_count": 5,
   "metadata": {
    "collapsed": true
   },
   "outputs": [],
   "source": [
    "import soalStack as soal"
   ]
  },
  {
   "cell_type": "code",
   "execution_count": 7,
   "metadata": {
    "collapsed": false
   },
   "outputs": [
    {
     "name": "stdout",
     "output_type": "stream",
     "text": [
      "KALKULATOR\n",
      "40\n",
      "2\n",
      "/\n",
      "0.05\n",
      "?\n",
      "[0.05]\n",
      "100\n",
      "?\n",
      "[0.05, 100]\n",
      "*\n",
      "5.0\n",
      "e\n",
      "5.0\n",
      "e\n",
      "?\n",
      "[]\n",
      "12\n",
      "8\n",
      "2\n",
      "10\n",
      "+\n",
      "12\n",
      "?\n",
      "[12, 8, 12]\n",
      "+\n",
      "20\n",
      "?\n",
      "[12, 20]\n",
      "*\n",
      "240\n",
      "?\n",
      "[240]\n",
      "e\n",
      "240\n",
      "t\n",
      "Bye bye\n"
     ]
    }
   ],
   "source": [
    "soal.calculator()"
   ]
  },
  {
   "cell_type": "markdown",
   "metadata": {},
   "source": [
    "## Delimiter Matching\n",
    "\n",
    "**Parentheses** sering digunakan untuk urutan penyelesaian dalam persamaan Matematika, seperti contoh berikut:\n",
    "\n",
    "P = 5 x (4 + 5) / ((3 + 2) x (10 - 8))\n",
    "\n",
    "Dengan penggunaan **parentheses** maka persamaan tersebut dapat diselesaikan secara benar, hanya saja terkadang **parentheses** yang ditulis tidak lengkap, sehingga hasil persamaan tidak dapat dikerjakan atau tidak sesuai dengan yang diinginkan, seperti contoh berikut :\n",
    "\n",
    "P = 5 x (4 + 5) / ((3 + 2) x (10 - 8)\n",
    "\n",
    "Oleh karena itu diperlukan algoritma untuk pemeriksaan parentheses ini atau secara umum **delimiter**, yaitu '{ }', '[ ]', dan '( )'"
   ]
  },
  {
   "cell_type": "code",
   "execution_count": null,
   "metadata": {
    "collapsed": true
   },
   "outputs": [],
   "source": [
    "b='5 x (4 + 5) / ((3 + 2) x (10 - 8)'"
   ]
  },
  {
   "cell_type": "code",
   "execution_count": null,
   "metadata": {
    "collapsed": false
   },
   "outputs": [],
   "source": [
    "stack.delimiterCheck(b)"
   ]
  },
  {
   "cell_type": "code",
   "execution_count": null,
   "metadata": {
    "collapsed": false
   },
   "outputs": [],
   "source": [
    "stack.delimiterCheck('5 x (4 + 5) / ((3 + 2) x (10 - 8))')"
   ]
  },
  {
   "cell_type": "code",
   "execution_count": null,
   "metadata": {
    "collapsed": false
   },
   "outputs": [],
   "source": [
    "import Stack as st\n",
    "\n",
    "def delimiterCheck2(strMath):\n",
    "    operandStack=st.stack()\n",
    "    lenMath=len(strMath)\n",
    "    \n",
    "    i=0\n",
    "    Matched=True;\n",
    "    while i<(lenMath):\n",
    "        #print(i,'=',strMath[i])\n",
    "        if strMath[i]=='(':\n",
    "            st.push(operandStack,strMath[i])\n",
    "            #print(operandStack)\n",
    "        elif strMath[i]==')':\n",
    "            if not(st.isEmpty(operandStack)):\n",
    "                top=st.pop(operandStack)\n",
    "                #print(\"top=\",top)\n",
    "                #print (operandStack)\n",
    "                \n",
    "            else:\n",
    "                Matched=Matched and False\n",
    "        i=i+1\n",
    "        #print(Matched)\n",
    "    if not(isEmpty(operandStack)):\n",
    "        Matched=False\n",
    "        #print('empty=',Matched)\n",
    "    return(Matched)\n",
    "\n",
    "\n",
    "        "
   ]
  },
  {
   "cell_type": "code",
   "execution_count": null,
   "metadata": {
    "collapsed": false
   },
   "outputs": [],
   "source": [
    "print(evaluatePost('45-6*'))"
   ]
  },
  {
   "cell_type": "code",
   "execution_count": 5,
   "metadata": {
    "collapsed": false,
    "scrolled": true
   },
   "outputs": [
    {
     "name": "stdout",
     "output_type": "stream",
     "text": [
      "Masukkan string operasi aritmatika = {5*(4/[7-5])}\n",
      "infix: {5*(4/[7-5])} ; postfix:  5475-/* = 10.0\n"
     ]
    }
   ],
   "source": [
    "mathStr=input('Masukkan string operasi aritmatika = ')\n",
    "if stack.delimiterCheck(mathStr):\n",
    "    postStr=stack.infixToPostFix(mathStr)\n",
    "    hasil=stack.evaluatePost(postStr)\n",
    "    print('infix:',mathStr,'; postfix: ',postStr,'=',hasil)"
   ]
  },
  {
   "cell_type": "markdown",
   "metadata": {},
   "source": [
    "### Konversi Bilangan \n",
    "\n",
    "Pada dunia ilmu komputer seringkali dibutuhkan proses konversi dari suatu bilangan ke bilangan lain, misalkan dari bilangan desimal menjadi bilangan biner atau menjadi bilangan octal.\n",
    "Ilustrasi proses konversi dari bilangan desimal ke bilangan biner dapat dilihat pada Gambar berikut.\n",
    "![title](images/desToBin.png)\n",
    "\n",
    "Dari Gambar tersebut dapat dilihat bahwa bilangan biner didapatkan dari **sisa** pembagian bilangan desimal dengan **dua**.  Hasil konversi didapatkan dengan cara membaca terbalik semua sisa tersebut.\n"
   ]
  },
  {
   "cell_type": "markdown",
   "metadata": {},
   "source": [
    "### Latihan - 2\n",
    "\n",
    "Buat function untuk mengkonversi bilangan desimal menjadi bilangan biner dengan menggunakan konsep **stack**"
   ]
  },
  {
   "cell_type": "markdown",
   "metadata": {},
   "source": [
    "### Latihan - 3\n",
    "\n",
    "Buat function untuk **Delimiter Matching**.  \n",
    "Input merupakan persamaan Matematika seperti contoh sebelumnya.\n",
    "\n",
    "Petunjuk :\n",
    "Berikut algoritma utama keperluan delimiter matching ini :\n",
    "1. Baca input persamaan matematika (tiap character)\n",
    "2. Jika character tersebut adalah '{', '[', '(' , maka lakukan operasi push caracter tersebut\n",
    "3. Jika character tersebut adalah '}, ']', ')' , maka lakukan operasi pop stack dan cocokkan dengan character ini, lakukan sampai stack kosong.\n",
    "\n",
    "Lakukan perubahan yang diperlukan pada algoritma tersebut untuk fungsi **Delimiter Matching**"
   ]
  },
  {
   "cell_type": "markdown",
   "metadata": {},
   "source": [
    "## Ekspressi Aritmatik Infix, Prefix, Postfix\n",
    "\n",
    "Eksperssi aritmatik yang sering ditemui adalah operasi aritmatik **infix**.  Pada operasi aritmatik **infix** ini, **operator** (+,-,\\*,/, dll) berada diantara dua buah **operand** (bilangan).  Ekspressi aritmatik ini dapat dengan mudah diselesaikan ketika tidak ada ambiguitas, seperti:\n",
    "\\begin{align}\n",
    "A + B \\\\\n",
    "A * X \\\\\n",
    "A - B + C\n",
    "\\end{align}\n",
    "\n",
    "Akan tetapi, ekspressi aritmatik ini akan sulit diselesaikan jika terjadi ambiguitas, seperti ekspressi aritmatik berikut ini:\n",
    "\\begin{align}\n",
    "A + B * C\n",
    "\\end{align}\n",
    "\n",
    "Pada ekspressi tersebut, terdapat ambiguitas, yaitu apakah A + B diselesaikan terlebih dahulu ataukah B \\* C yang harus diselesaikan terlebih dahulu.  Ambiguitas ini dapat diatasi dengan konsep **operator precedence**.  Pada operator precedence, operator-operator dibagi menjadi beberapa level berdasarkan prioritas urutan penyelesaian.  \n",
    "Pada contoh ekspressi aritmatik A + B \\* C, berdasarkan operator precedence, maka urutan penyelesaian adalah B \\* C kemudian hasilnya ditambahkan dengan A.\n",
    "Permasalahan terjadi ketika pada ekspressi aritmatik A + B \\* C, A + B ingin diselesaikan terlebih dahulu.  Untuk penyelesaian ekspressi aritmatik yang tidak sesuai dengan urutan operator precedence, maka tanda '( )' sangatlah diperlukan, sehingga operasi tersebut menjadi (A + B) \\* C.\n",
    "\n",
    "Tanda '( )' **tidaklah diperlukan** pada ekspressi aritmatik **prefix** dan **postfix**.\n",
    "Pada ekspressi aritmatik **prefix**, operator mendahului operand, sedangkankan ekspressi aritmatik **postfix**, operator ditulis setelah operand."
   ]
  },
  {
   "cell_type": "markdown",
   "metadata": {},
   "source": [
    "Berikut contoh ekspressi aritmatik **infix** dan konversinya ke **prefix** dan **postfix**.\n"
   ]
  },
  {
   "cell_type": "markdown",
   "metadata": {},
   "source": [
    "|    Infix   |  Prefix  |  Postfix |\n",
    "|------------|----------|----------|          \n",
    "|   A+B      |  +AB     |   AB+    |\n",
    "| (A+B)*C    |  *+ABC   |   AB+C*  |\n",
    "|(A+B)*(C-D) | *+AB-CD  | AB+CD-*  |\n",
    "| A+B*C-D    | -+A*BCD  | ABC*+D-  |\n",
    "| A+B-C+D    | +-+ABCD  | AB+C-D+  |\n",
    "| A\\*B-C\\*D    | -\\*AB\\*CD  | AB\\*CD\\*-  |\n",
    "\n"
   ]
  },
  {
   "cell_type": "markdown",
   "metadata": {},
   "source": [
    "## Konversi Infix ke Postfix\n",
    "\n",
    "Berikut algoritma untuk konversi ekspressi aritmatik *infix* ke *postfix* :\n",
    "1. Buat struktur data *stack* untuk menampung operator\n",
    "2. Baca ekspressi aritmatik dari kiri ke kanan tiap token :\n",
    "    - jika token yang dibaca adalah *operand* maka masukkan *operand* tersebut ke dalam *output string*\n",
    "    - jika token yang dibaca adalah kurung buka maka *push* kurung buka tersebut ke dalam *stack*\n",
    "    - jika token yang dibaca adalah kurang tutup maka *pop* stack semua token sampai ditemukan kurung buka\n",
    "    - jika token yang dibaca adalah *operator* maka :\n",
    "        - pop operator-operator yang memiliki precedence lebih tinggi atau sama dan masukkan operator tersebut ke dalam *output string*\n",
    "        - push token operator ke dalam stack\n",
    "3. Jika masih terdapat operator pada stack, maka pop operator yang tersisa dan letakkan pada *output string*        \n",
    "    "
   ]
  },
  {
   "cell_type": "markdown",
   "metadata": {},
   "source": [
    "Berikut contoh konversi dari infix ke postfix\n",
    "![title](images/infixToPostfix.png)"
   ]
  },
  {
   "cell_type": "markdown",
   "metadata": {},
   "source": [
    "### Latihan - 4\n",
    "\n",
    "- Buat function untuk mengkonversikan ekspressi aritmatik infix menjadi ekspressi aritmatik postfix\n",
    "- Buat function untuk mengevaluasi ekspressi aritmatik postfix"
   ]
  },
  {
   "cell_type": "markdown",
   "metadata": {
    "collapsed": true
   },
   "source": [
    "## Evaluasi Ekspressi Postfix\n",
    "\n",
    "Seperti yang sudah dijelaskan sebelumnya, evaluasi untuk ekspressi aritmatika Postfix dilakukan setelah terdapat dua buah operand sebelum sebuah operator.\n",
    "Misalkan : \n",
    "87+2\\*, yang berarti (8+7)\\*2=30,\n",
    "oleh karena itu berikut algoritma untuk mengevaluasi ekspressi aritmatika postfix :\n",
    "1. baca string mulai dari kiri\n",
    "2. Jika character yang dibaca adalah sebuah operand, maka push operand tersebut.\n",
    "3. Jika character yang dibaca adalah sebuah operator, maka pop dua buah operand yang terdapat pada stack, operasikan dua buah operand tersebut dengan operator, dan push hasil operasinya\n",
    "4. hasil akhir adalah angka terakhir yang terdapat di dalam stack\n",
    "\n"
   ]
  }
 ],
 "metadata": {
  "kernelspec": {
   "display_name": "Python 3",
   "language": "python",
   "name": "python3"
  },
  "language_info": {
   "codemirror_mode": {
    "name": "ipython",
    "version": 3
   },
   "file_extension": ".py",
   "mimetype": "text/x-python",
   "name": "python",
   "nbconvert_exporter": "python",
   "pygments_lexer": "ipython3",
   "version": "3.6.0"
  }
 },
 "nbformat": 4,
 "nbformat_minor": 2
}
