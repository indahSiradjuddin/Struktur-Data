{
 "cells": [
  {
   "cell_type": "markdown",
   "metadata": {},
   "source": [
    "# Struktur Data \n",
    "*Indah Agustien Siradjuddin*\n",
    "\n",
    "Perkuliahan Struktur Data"
   ]
  },
  {
   "cell_type": "markdown",
   "metadata": {
    "collapsed": true
   },
   "source": [
    "## Materi Perkuliahan\n",
    "Berikut daftar isi materi Struktur Data selama satu Semester ini :\n",
    "\n",
    "\n",
    "### 1. Struktur Data \n",
    "\n",
    "  + [1.1-Stacks](2_1-Stack.ipynb)\n",
    "  + [1.2-Queues](2_2-Queues.ipynb)\n",
    "  + [1.3-Deques](2_3-Deques.ipynb)\n",
    "  + [1.4-Pemrograman berorientasi Objek](classes.ipynb)\n",
    "  + [1.5-Linked List](2_4-LinkedList.ipynb)\n",
    "     \n",
    "  \n",
    "### 2. Pengurutan (*Sorting*)\n",
    "\n",
    "  + [2.1-Bubble Sort](3_1-BubbleSort.ipynb)\n",
    "  + [2.2-Selection Sort](3_2-SelectionSort.ipynb)\n",
    "  + [2.3-Insertion Sort](3_3-InsertionSort.ipynb)\n",
    "\n",
    "### 3. Rekursif\n",
    "  + [Rekursif](recursif.ipynb)\n",
    "\n",
    "### 4. Pencarian\n",
    "  + [4.1-Sequential Search](05_1-SequentialSearch.ipynb)\n",
    "  + [4.2-Binary Search](05_2-BinarySearch.ipynb)\n",
    "  + [4.3-Hashing](05_3-Hashing.ipynb)\n",
    "\n",
    "\n",
    "### 5. Pengurutan II (*Advanced Sorting*) dan Pencarian\n",
    "  + [5.1-Merge Sort](6_1-MergeSort.ipynb)\n",
    "  + [5.2-Quick Sort](6_3-QuickSort.ipynb)\n",
    "  + [5.3-Counting Sort](6_4-CountingSort.ipynb)\n",
    "  \n",
    "### 6-Trees\n",
    "  + [6.1-Binary Tree](7_1-binaryTree.ipynb)\n",
    "  + [6.2-Parsing Binary Tree](7_2-parsingBinTree.ipynb)\n",
    "  + [6.3-Tree Traversal](7_3-treeTraversal.ipynb)\n",
    "  + [6.4-Binary Search Tree](7_4-binarySearchTree.ipynb)\n",
    "\n"
   ]
  },
  {
   "cell_type": "code",
   "execution_count": null,
   "metadata": {
    "collapsed": true
   },
   "outputs": [],
   "source": []
  }
 ],
 "metadata": {
  "kernelspec": {
   "display_name": "Python 3",
   "language": "python",
   "name": "python3"
  },
  "language_info": {
   "codemirror_mode": {
    "name": "ipython",
    "version": 3
   },
   "file_extension": ".py",
   "mimetype": "text/x-python",
   "name": "python",
   "nbconvert_exporter": "python",
   "pygments_lexer": "ipython3",
   "version": "3.6.0"
  }
 },
 "nbformat": 4,
 "nbformat_minor": 2
}
